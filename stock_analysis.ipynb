{
  "nbformat": 4,
  "nbformat_minor": 0,
  "metadata": {
    "colab": {
      "provenance": [],
      "authorship_tag": "ABX9TyNm8W8nA87VbQjM5DBdwEvz",
      "include_colab_link": true
    },
    "kernelspec": {
      "name": "python3",
      "display_name": "Python 3"
    },
    "language_info": {
      "name": "python"
    }
  },
  "cells": [
    {
      "cell_type": "markdown",
      "metadata": {
        "id": "view-in-github",
        "colab_type": "text"
      },
      "source": [
        "<a href=\"https://colab.research.google.com/github/phucbienvan/stock_analysis/blob/main/stock_analysis.ipynb\" target=\"_parent\"><img src=\"https://colab.research.google.com/assets/colab-badge.svg\" alt=\"Open In Colab\"/></a>"
      ]
    },
    {
      "cell_type": "code",
      "execution_count": null,
      "metadata": {
        "colab": {
          "base_uri": "https://localhost:8080/"
        },
        "id": "IrUl-tGtzHir",
        "outputId": "d6304391-5d9d-43d0-ed4c-86ae34834638"
      },
      "outputs": [
        {
          "output_type": "stream",
          "name": "stdout",
          "text": [
            "Requirement already satisfied: pandas_datareader in /usr/local/lib/python3.10/dist-packages (0.10.0)\n",
            "Requirement already satisfied: lxml in /usr/local/lib/python3.10/dist-packages (from pandas_datareader) (4.9.4)\n",
            "Requirement already satisfied: pandas>=0.23 in /usr/local/lib/python3.10/dist-packages (from pandas_datareader) (1.5.3)\n",
            "Requirement already satisfied: requests>=2.19.0 in /usr/local/lib/python3.10/dist-packages (from pandas_datareader) (2.31.0)\n",
            "Requirement already satisfied: python-dateutil>=2.8.1 in /usr/local/lib/python3.10/dist-packages (from pandas>=0.23->pandas_datareader) (2.8.2)\n",
            "Requirement already satisfied: pytz>=2020.1 in /usr/local/lib/python3.10/dist-packages (from pandas>=0.23->pandas_datareader) (2023.4)\n",
            "Requirement already satisfied: numpy>=1.21.0 in /usr/local/lib/python3.10/dist-packages (from pandas>=0.23->pandas_datareader) (1.25.2)\n",
            "Requirement already satisfied: charset-normalizer<4,>=2 in /usr/local/lib/python3.10/dist-packages (from requests>=2.19.0->pandas_datareader) (3.3.2)\n",
            "Requirement already satisfied: idna<4,>=2.5 in /usr/local/lib/python3.10/dist-packages (from requests>=2.19.0->pandas_datareader) (3.6)\n",
            "Requirement already satisfied: urllib3<3,>=1.21.1 in /usr/local/lib/python3.10/dist-packages (from requests>=2.19.0->pandas_datareader) (2.0.7)\n",
            "Requirement already satisfied: certifi>=2017.4.17 in /usr/local/lib/python3.10/dist-packages (from requests>=2.19.0->pandas_datareader) (2024.2.2)\n",
            "Requirement already satisfied: six>=1.5 in /usr/local/lib/python3.10/dist-packages (from python-dateutil>=2.8.1->pandas>=0.23->pandas_datareader) (1.16.0)\n"
          ]
        }
      ],
      "source": [
        "!pip install pandas_datareader"
      ]
    },
    {
      "cell_type": "code",
      "source": [
        "from pandas_datareader import data\n",
        "import datetime"
      ],
      "metadata": {
        "id": "5vIsr-OdzLga"
      },
      "execution_count": null,
      "outputs": []
    },
    {
      "cell_type": "code",
      "source": [
        "start_date = datetime.datetime(2024,1,1)\n",
        "end_date = datetime.datetime(2024,3,1)\n",
        "df = data.DataReader(name=\"GOOG\", data_source=\"stooq\", start=start_date, end=end_date)\n",
        "print(df)"
      ],
      "metadata": {
        "colab": {
          "base_uri": "https://localhost:8080/"
        },
        "id": "ndHaY2-kzaVd",
        "outputId": "febdda7e-6637-4f96-d874-28b52f3948db"
      },
      "execution_count": null,
      "outputs": [
        {
          "output_type": "stream",
          "name": "stdout",
          "text": [
            "               Open      High       Low   Close    Volume\n",
            "Date                                                     \n",
            "2024-03-01  139.610  140.0000  137.9750  138.08  28551525\n",
            "2024-02-29  138.350  139.9500  137.5700  139.78  35485006\n",
            "2024-02-28  139.100  139.2800  136.6400  137.43  30628702\n",
            "2024-02-27  139.410  140.4900  138.5000  140.10  22363981\n",
            "2024-02-26  143.450  143.8400  138.7400  138.75  33513011\n",
            "2024-02-23  144.970  145.9550  144.7900  145.29  14519434\n",
            "2024-02-22  146.120  146.2000  144.0100  145.32  23024707\n",
            "2024-02-21  142.640  143.9800  141.9100  143.84  16499584\n",
            "2024-02-20  140.940  143.3285  140.8000  142.20  18625589\n",
            "2024-02-16  144.210  144.4800  141.5200  141.76  21865118\n",
            "2024-02-15  144.460  144.7600  141.8800  143.94  26724305\n",
            "2024-02-14  147.370  147.8300  145.5550  147.14  16651824\n",
            "2024-02-13  146.070  148.0400  145.1100  146.37  18138482\n",
            "2024-02-12  149.540  150.5900  148.5600  148.73  17236108\n",
            "2024-02-09  147.950  150.6950  147.4300  150.22  21877693\n",
            "2024-02-08  146.970  147.6100  146.4200  147.22  18241319\n",
            "2024-02-07  146.120  147.0000  145.2103  146.68  21436126\n",
            "2024-02-06  145.960  146.7400  144.5200  145.41  21517655\n",
            "2024-02-05  144.040  146.6700  143.9100  144.93  29254444\n",
            "2024-02-02  140.890  143.8800  138.1700  143.54  42136127\n",
            "2024-02-01  143.690  144.6200  142.2600  142.71  25526855\n",
            "2024-01-31  145.390  145.5900  141.5500  141.80  43908584\n",
            "2024-01-30  154.010  155.0400  152.7750  153.05  26578934\n",
            "2024-01-29  153.640  155.2000  152.9200  154.84  20909258\n",
            "2024-01-26  152.870  154.1100  152.8000  153.79  19494488\n",
            "2024-01-25  151.740  154.7600  151.2200  153.64  21495120\n",
            "2024-01-24  150.290  151.5700  149.8400  150.35  19245031\n",
            "2024-01-23  147.720  148.8600  147.1900  148.68  14113649\n",
            "2024-01-22  148.710  150.0150  147.5800  147.71  21829232\n",
            "2024-01-19  146.305  148.0400  145.8000  147.97  27181032\n",
            "2024-01-18  143.440  145.5850  143.3500  144.99  18876800\n",
            "2024-01-17  142.910  143.4100  140.5100  142.89  17884548\n",
            "2024-01-16  143.430  145.8400  143.0564  144.08  19198939\n",
            "2024-01-12  144.340  144.7400  143.3600  144.24  13998729\n",
            "2024-01-11  144.895  146.6600  142.2150  143.67  17471130\n",
            "2024-01-10  142.520  144.5250  142.4600  143.80  16641881\n",
            "2024-01-09  140.060  142.7998  139.7900  142.56  19579667\n",
            "2024-01-08  138.000  140.6400  137.8800  140.53  17645293\n",
            "2024-01-05  138.352  138.8100  136.8500  137.39  15439475\n",
            "2024-01-04  139.850  140.6350  138.0100  138.04  18253331\n",
            "2024-01-03  138.600  141.0900  138.4300  140.36  18974308\n",
            "2024-01-02  139.600  140.6147  137.7400  139.56  20071885\n"
          ]
        }
      ]
    },
    {
      "cell_type": "code",
      "source": [
        "def inc_dec(c, o):\n",
        "    if c > o:\n",
        "        value=\"Increase\"\n",
        "    elif c < o:\n",
        "        value=\"Decrease\"\n",
        "    else:\n",
        "        value=\"Equal\"\n",
        "    return value\n",
        "\n",
        "df[\"Status\"]=[inc_dec(c,o) for c, o in zip(df.Close,df.Open)]\n",
        "print(df)"
      ],
      "metadata": {
        "colab": {
          "base_uri": "https://localhost:8080/"
        },
        "id": "odt1afSx1d5N",
        "outputId": "d8a6ec18-6f2d-4068-bf03-447770c414bd"
      },
      "execution_count": null,
      "outputs": [
        {
          "output_type": "stream",
          "name": "stdout",
          "text": [
            "               Open      High       Low   Close    Volume    Status\n",
            "Date                                                               \n",
            "2024-03-01  139.610  140.0000  137.9750  138.08  28551525  Decrease\n",
            "2024-02-29  138.350  139.9500  137.5700  139.78  35485006  Increase\n",
            "2024-02-28  139.100  139.2800  136.6400  137.43  30628702  Decrease\n",
            "2024-02-27  139.410  140.4900  138.5000  140.10  22363981  Increase\n",
            "2024-02-26  143.450  143.8400  138.7400  138.75  33513011  Decrease\n",
            "2024-02-23  144.970  145.9550  144.7900  145.29  14519434  Increase\n",
            "2024-02-22  146.120  146.2000  144.0100  145.32  23024707  Decrease\n",
            "2024-02-21  142.640  143.9800  141.9100  143.84  16499584  Increase\n",
            "2024-02-20  140.940  143.3285  140.8000  142.20  18625589  Increase\n",
            "2024-02-16  144.210  144.4800  141.5200  141.76  21865118  Decrease\n",
            "2024-02-15  144.460  144.7600  141.8800  143.94  26724305  Decrease\n",
            "2024-02-14  147.370  147.8300  145.5550  147.14  16651824  Decrease\n",
            "2024-02-13  146.070  148.0400  145.1100  146.37  18138482  Increase\n",
            "2024-02-12  149.540  150.5900  148.5600  148.73  17236108  Decrease\n",
            "2024-02-09  147.950  150.6950  147.4300  150.22  21877693  Increase\n",
            "2024-02-08  146.970  147.6100  146.4200  147.22  18241319  Increase\n",
            "2024-02-07  146.120  147.0000  145.2103  146.68  21436126  Increase\n",
            "2024-02-06  145.960  146.7400  144.5200  145.41  21517655  Decrease\n",
            "2024-02-05  144.040  146.6700  143.9100  144.93  29254444  Increase\n",
            "2024-02-02  140.890  143.8800  138.1700  143.54  42136127  Increase\n",
            "2024-02-01  143.690  144.6200  142.2600  142.71  25526855  Decrease\n",
            "2024-01-31  145.390  145.5900  141.5500  141.80  43908584  Decrease\n",
            "2024-01-30  154.010  155.0400  152.7750  153.05  26578934  Decrease\n",
            "2024-01-29  153.640  155.2000  152.9200  154.84  20909258  Increase\n",
            "2024-01-26  152.870  154.1100  152.8000  153.79  19494488  Increase\n",
            "2024-01-25  151.740  154.7600  151.2200  153.64  21495120  Increase\n",
            "2024-01-24  150.290  151.5700  149.8400  150.35  19245031  Increase\n",
            "2024-01-23  147.720  148.8600  147.1900  148.68  14113649  Increase\n",
            "2024-01-22  148.710  150.0150  147.5800  147.71  21829232  Decrease\n",
            "2024-01-19  146.305  148.0400  145.8000  147.97  27181032  Increase\n",
            "2024-01-18  143.440  145.5850  143.3500  144.99  18876800  Increase\n",
            "2024-01-17  142.910  143.4100  140.5100  142.89  17884548  Decrease\n",
            "2024-01-16  143.430  145.8400  143.0564  144.08  19198939  Increase\n",
            "2024-01-12  144.340  144.7400  143.3600  144.24  13998729  Decrease\n",
            "2024-01-11  144.895  146.6600  142.2150  143.67  17471130  Decrease\n",
            "2024-01-10  142.520  144.5250  142.4600  143.80  16641881  Increase\n",
            "2024-01-09  140.060  142.7998  139.7900  142.56  19579667  Increase\n",
            "2024-01-08  138.000  140.6400  137.8800  140.53  17645293  Increase\n",
            "2024-01-05  138.352  138.8100  136.8500  137.39  15439475  Decrease\n",
            "2024-01-04  139.850  140.6350  138.0100  138.04  18253331  Decrease\n",
            "2024-01-03  138.600  141.0900  138.4300  140.36  18974308  Increase\n",
            "2024-01-02  139.600  140.6147  137.7400  139.56  20071885  Decrease\n"
          ]
        }
      ]
    },
    {
      "cell_type": "code",
      "source": [
        "df[\"Middle\"] = (df.Open+df.Close)/2\n",
        "df[\"Height\"] = abs(df.Close-df.Open)\n",
        "print(df)"
      ],
      "metadata": {
        "colab": {
          "base_uri": "https://localhost:8080/"
        },
        "id": "MUOCGeVP1mpj",
        "outputId": "dbead22e-6b67-4b80-a4ed-e8275aea5b6f"
      },
      "execution_count": null,
      "outputs": [
        {
          "output_type": "stream",
          "name": "stdout",
          "text": [
            "               Open      High       Low   Close    Volume    Status    Middle  \\\n",
            "Date                                                                            \n",
            "2024-03-01  139.610  140.0000  137.9750  138.08  28551525  Decrease  138.8450   \n",
            "2024-02-29  138.350  139.9500  137.5700  139.78  35485006  Increase  139.0650   \n",
            "2024-02-28  139.100  139.2800  136.6400  137.43  30628702  Decrease  138.2650   \n",
            "2024-02-27  139.410  140.4900  138.5000  140.10  22363981  Increase  139.7550   \n",
            "2024-02-26  143.450  143.8400  138.7400  138.75  33513011  Decrease  141.1000   \n",
            "2024-02-23  144.970  145.9550  144.7900  145.29  14519434  Increase  145.1300   \n",
            "2024-02-22  146.120  146.2000  144.0100  145.32  23024707  Decrease  145.7200   \n",
            "2024-02-21  142.640  143.9800  141.9100  143.84  16499584  Increase  143.2400   \n",
            "2024-02-20  140.940  143.3285  140.8000  142.20  18625589  Increase  141.5700   \n",
            "2024-02-16  144.210  144.4800  141.5200  141.76  21865118  Decrease  142.9850   \n",
            "2024-02-15  144.460  144.7600  141.8800  143.94  26724305  Decrease  144.2000   \n",
            "2024-02-14  147.370  147.8300  145.5550  147.14  16651824  Decrease  147.2550   \n",
            "2024-02-13  146.070  148.0400  145.1100  146.37  18138482  Increase  146.2200   \n",
            "2024-02-12  149.540  150.5900  148.5600  148.73  17236108  Decrease  149.1350   \n",
            "2024-02-09  147.950  150.6950  147.4300  150.22  21877693  Increase  149.0850   \n",
            "2024-02-08  146.970  147.6100  146.4200  147.22  18241319  Increase  147.0950   \n",
            "2024-02-07  146.120  147.0000  145.2103  146.68  21436126  Increase  146.4000   \n",
            "2024-02-06  145.960  146.7400  144.5200  145.41  21517655  Decrease  145.6850   \n",
            "2024-02-05  144.040  146.6700  143.9100  144.93  29254444  Increase  144.4850   \n",
            "2024-02-02  140.890  143.8800  138.1700  143.54  42136127  Increase  142.2150   \n",
            "2024-02-01  143.690  144.6200  142.2600  142.71  25526855  Decrease  143.2000   \n",
            "2024-01-31  145.390  145.5900  141.5500  141.80  43908584  Decrease  143.5950   \n",
            "2024-01-30  154.010  155.0400  152.7750  153.05  26578934  Decrease  153.5300   \n",
            "2024-01-29  153.640  155.2000  152.9200  154.84  20909258  Increase  154.2400   \n",
            "2024-01-26  152.870  154.1100  152.8000  153.79  19494488  Increase  153.3300   \n",
            "2024-01-25  151.740  154.7600  151.2200  153.64  21495120  Increase  152.6900   \n",
            "2024-01-24  150.290  151.5700  149.8400  150.35  19245031  Increase  150.3200   \n",
            "2024-01-23  147.720  148.8600  147.1900  148.68  14113649  Increase  148.2000   \n",
            "2024-01-22  148.710  150.0150  147.5800  147.71  21829232  Decrease  148.2100   \n",
            "2024-01-19  146.305  148.0400  145.8000  147.97  27181032  Increase  147.1375   \n",
            "2024-01-18  143.440  145.5850  143.3500  144.99  18876800  Increase  144.2150   \n",
            "2024-01-17  142.910  143.4100  140.5100  142.89  17884548  Decrease  142.9000   \n",
            "2024-01-16  143.430  145.8400  143.0564  144.08  19198939  Increase  143.7550   \n",
            "2024-01-12  144.340  144.7400  143.3600  144.24  13998729  Decrease  144.2900   \n",
            "2024-01-11  144.895  146.6600  142.2150  143.67  17471130  Decrease  144.2825   \n",
            "2024-01-10  142.520  144.5250  142.4600  143.80  16641881  Increase  143.1600   \n",
            "2024-01-09  140.060  142.7998  139.7900  142.56  19579667  Increase  141.3100   \n",
            "2024-01-08  138.000  140.6400  137.8800  140.53  17645293  Increase  139.2650   \n",
            "2024-01-05  138.352  138.8100  136.8500  137.39  15439475  Decrease  137.8710   \n",
            "2024-01-04  139.850  140.6350  138.0100  138.04  18253331  Decrease  138.9450   \n",
            "2024-01-03  138.600  141.0900  138.4300  140.36  18974308  Increase  139.4800   \n",
            "2024-01-02  139.600  140.6147  137.7400  139.56  20071885  Decrease  139.5800   \n",
            "\n",
            "            Height  \n",
            "Date                \n",
            "2024-03-01   1.530  \n",
            "2024-02-29   1.430  \n",
            "2024-02-28   1.670  \n",
            "2024-02-27   0.690  \n",
            "2024-02-26   4.700  \n",
            "2024-02-23   0.320  \n",
            "2024-02-22   0.800  \n",
            "2024-02-21   1.200  \n",
            "2024-02-20   1.260  \n",
            "2024-02-16   2.450  \n",
            "2024-02-15   0.520  \n",
            "2024-02-14   0.230  \n",
            "2024-02-13   0.300  \n",
            "2024-02-12   0.810  \n",
            "2024-02-09   2.270  \n",
            "2024-02-08   0.250  \n",
            "2024-02-07   0.560  \n",
            "2024-02-06   0.550  \n",
            "2024-02-05   0.890  \n",
            "2024-02-02   2.650  \n",
            "2024-02-01   0.980  \n",
            "2024-01-31   3.590  \n",
            "2024-01-30   0.960  \n",
            "2024-01-29   1.200  \n",
            "2024-01-26   0.920  \n",
            "2024-01-25   1.900  \n",
            "2024-01-24   0.060  \n",
            "2024-01-23   0.960  \n",
            "2024-01-22   1.000  \n",
            "2024-01-19   1.665  \n",
            "2024-01-18   1.550  \n",
            "2024-01-17   0.020  \n",
            "2024-01-16   0.650  \n",
            "2024-01-12   0.100  \n",
            "2024-01-11   1.225  \n",
            "2024-01-10   1.280  \n",
            "2024-01-09   2.500  \n",
            "2024-01-08   2.530  \n",
            "2024-01-05   0.962  \n",
            "2024-01-04   1.810  \n",
            "2024-01-03   1.760  \n",
            "2024-01-02   0.040  \n"
          ]
        }
      ]
    },
    {
      "cell_type": "code",
      "source": [
        "!pip install bokeh"
      ],
      "metadata": {
        "colab": {
          "base_uri": "https://localhost:8080/"
        },
        "id": "mlQf9cOL4UWr",
        "outputId": "f64fb418-a37b-4231-d5e4-91dc341855de"
      },
      "execution_count": null,
      "outputs": [
        {
          "output_type": "stream",
          "name": "stdout",
          "text": [
            "Requirement already satisfied: bokeh in /usr/local/lib/python3.10/dist-packages (3.3.4)\n",
            "Requirement already satisfied: Jinja2>=2.9 in /usr/local/lib/python3.10/dist-packages (from bokeh) (3.1.3)\n",
            "Requirement already satisfied: contourpy>=1 in /usr/local/lib/python3.10/dist-packages (from bokeh) (1.2.0)\n",
            "Requirement already satisfied: numpy>=1.16 in /usr/local/lib/python3.10/dist-packages (from bokeh) (1.25.2)\n",
            "Requirement already satisfied: packaging>=16.8 in /usr/local/lib/python3.10/dist-packages (from bokeh) (23.2)\n",
            "Requirement already satisfied: pandas>=1.2 in /usr/local/lib/python3.10/dist-packages (from bokeh) (1.5.3)\n",
            "Requirement already satisfied: pillow>=7.1.0 in /usr/local/lib/python3.10/dist-packages (from bokeh) (9.4.0)\n",
            "Requirement already satisfied: PyYAML>=3.10 in /usr/local/lib/python3.10/dist-packages (from bokeh) (6.0.1)\n",
            "Requirement already satisfied: tornado>=5.1 in /usr/local/lib/python3.10/dist-packages (from bokeh) (6.3.2)\n",
            "Requirement already satisfied: xyzservices>=2021.09.1 in /usr/local/lib/python3.10/dist-packages (from bokeh) (2023.10.1)\n",
            "Requirement already satisfied: MarkupSafe>=2.0 in /usr/local/lib/python3.10/dist-packages (from Jinja2>=2.9->bokeh) (2.1.5)\n",
            "Requirement already satisfied: python-dateutil>=2.8.1 in /usr/local/lib/python3.10/dist-packages (from pandas>=1.2->bokeh) (2.8.2)\n",
            "Requirement already satisfied: pytz>=2020.1 in /usr/local/lib/python3.10/dist-packages (from pandas>=1.2->bokeh) (2023.4)\n",
            "Requirement already satisfied: six>=1.5 in /usr/local/lib/python3.10/dist-packages (from python-dateutil>=2.8.1->pandas>=1.2->bokeh) (1.16.0)\n"
          ]
        }
      ]
    },
    {
      "cell_type": "code",
      "source": [
        "from bokeh.plotting import figure, show, output_file\n",
        "\n",
        "hours_12 = 12* 60 * 60 * 1000\n",
        "p = figure(x_axis_type='datetime', width=1000, height=300)\n",
        "p.title.text = \"Candlestick Chart\"\n",
        "p.segment(df.index, df.High, df.index, df.Low, color=\"Black\")\n",
        "\n",
        "p.rect(df.index[df.Status==\"Increase\"],df.Middle[df.Status==\"Increase\"],\n",
        "   hours_12, df.Height[df.Status==\"Increase\"],fill_color=\"#CCFFFF\",\n",
        "   line_color=\"black\")\n",
        "\n",
        "p.rect(df.index[df.Status==\"Decrease\"],df.Middle[df.Status==\"Decrease\"],\n",
        "   hours_12, df.Height[df.Status==\"Decrease\"],fill_color=\"#FF3333\",\n",
        "   line_color=\"black\")\n",
        "\n",
        "print(p)\n",
        "output_file(\"chart.html\")\n",
        "show(p)"
      ],
      "metadata": {
        "colab": {
          "base_uri": "https://localhost:8080/"
        },
        "id": "fdtYhUXk11Ww",
        "outputId": "8afd6c23-1111-414a-c5da-94fc55d84c32"
      },
      "execution_count": null,
      "outputs": [
        {
          "output_type": "stream",
          "name": "stdout",
          "text": [
            "figure(id='p1247', ...)\n"
          ]
        }
      ]
    }
  ]
}